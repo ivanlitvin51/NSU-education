{
 "cells": [
  {
   "cell_type": "code",
   "execution_count": null,
   "id": "3361e269-374d-449c-95ca-aaaf95357c0f",
   "metadata": {},
   "outputs": [],
   "source": [
    "# 1\n",
    "\"\"\"Дано предложение и количество раз, сколько его надо повторить. Напишите программу, которая повторяет данное предложение нужное количество раз.\n",
    "В первой строке подаётся текстовое предложение, во второй – количество повторений.\n",
    "Программа должна вывести указанное текстовое предложение нужное количество раз. Каждое повторение должно начинаться с новой строки.\"\"\""
   ]
  },
  {
   "cell_type": "code",
   "execution_count": 2,
   "id": "9f8b10eb-a001-4cb0-b5d1-6a9120f33b23",
   "metadata": {},
   "outputs": [
    {
     "name": "stdout",
     "output_type": "stream",
     "text": [
      "abc abc\n",
      "abc abc\n",
      "abc abc\n"
     ]
    }
   ],
   "source": [
    "# Напишите Ваш код здесь\n",
    "s = input()\n",
    "n = int(input())\n",
    "for i in range(n):\n",
    "    print(s)"
   ]
  },
  {
   "cell_type": "code",
   "execution_count": null,
   "id": "46cf4a59-5444-4492-a033-96d69001b3ad",
   "metadata": {},
   "outputs": [],
   "source": [
    "# 2\n",
    "\"\"\"На вход программе подаётся натуральное число n(1≤n≤20). Напишите программу, которая печатает звёздный прямоугольник размерами n×19. \n",
    "На вход программе подаётся натуральное число n(1≤n≤20) – высота звёздного прямоугольника. Программа должна вывести звёздный прямоугольник \n",
    "размерами n×19.\"\"\""
   ]
  },
  {
   "cell_type": "code",
   "execution_count": 9,
   "id": "dce932c7-fb1b-4402-b837-7e2bd0d0968f",
   "metadata": {},
   "outputs": [
    {
     "name": "stdout",
     "output_type": "stream",
     "text": [
      "*******************\n",
      "*******************\n",
      "*******************\n"
     ]
    }
   ],
   "source": [
    "# Напишите Ваш код здесь\n",
    "n = int(input())\n",
    "for i in range(n):\n",
    "    print(19 * \"*\")"
   ]
  },
  {
   "cell_type": "code",
   "execution_count": null,
   "id": "36fb30e6-14c9-4a76-a103-c65cc348af40",
   "metadata": {},
   "outputs": [],
   "source": [
    "# 3\n",
    "\"\"\"На вход программе подаётся натуральное число n(n≥2) – катет прямоугольного равнобедренного треугольника.\n",
    "Напишите программу, которая выводит звёздный треугольник в соответствии с примером. На вход программе подаётся одно натуральное число n(n≥2).\n",
    "Программа должна вывести треугольник в соответствии с условием задачи.\n",
    "\n",
    "Input 1:\n",
    "3\n",
    "Output 1:\n",
    "***\n",
    "**\n",
    "*              \"\"\""
   ]
  },
  {
   "cell_type": "code",
   "execution_count": 13,
   "id": "9d3b8b44-7c55-4a32-9b32-20291905923a",
   "metadata": {},
   "outputs": [
    {
     "name": "stdout",
     "output_type": "stream",
     "text": [
      "****\n",
      "***\n",
      "**\n",
      "*\n"
     ]
    }
   ],
   "source": [
    "# Напишите Ваш код здесь\n",
    "n = int(input())\n",
    "s = n\n",
    "for i in range(n):\n",
    "    print (\"*\" * s)\n",
    "    s -= 1"
   ]
  },
  {
   "cell_type": "code",
   "execution_count": null,
   "id": "aaeb2fe9-f73b-469b-8b3a-29d39059a536",
   "metadata": {},
   "outputs": [],
   "source": [
    "# 4\n",
    "\"\"\"Даны два целых числа m и n (m≤n). Напишите программу, которая выводит все целые числа от m до n включительно.\"\"\""
   ]
  },
  {
   "cell_type": "code",
   "execution_count": 15,
   "id": "05bc1885-1e0e-4047-8c97-a98aa9a96aee",
   "metadata": {},
   "outputs": [
    {
     "name": "stdout",
     "output_type": "stream",
     "text": [
      "3\n",
      "4\n",
      "5\n",
      "6\n",
      "7\n",
      "8\n"
     ]
    }
   ],
   "source": [
    "# Напишите Ваш код здесь\n",
    "m = int(input())\n",
    "n = int(input())\n",
    "for i in range(m, n + 1):\n",
    "    print(i)"
   ]
  },
  {
   "cell_type": "code",
   "execution_count": null,
   "id": "e47ab08b-8a2d-4b26-bad6-df626df86808",
   "metadata": {},
   "outputs": [],
   "source": [
    "# 5\n",
    "\"\"\"Даны два целых числа m и n. Напишите программу, которая выводит все целые числа от m до n включительно в порядке возрастания, если m<n,\n",
    "или в порядке убывания в противном случае.\"\"\""
   ]
  },
  {
   "cell_type": "code",
   "execution_count": 24,
   "id": "92f59edf-95e1-441c-8389-a4d2e0466b4c",
   "metadata": {},
   "outputs": [
    {
     "name": "stdout",
     "output_type": "stream",
     "text": [
      "7\n",
      "6\n",
      "5\n",
      "4\n",
      "3\n"
     ]
    }
   ],
   "source": [
    "# Напишите Ваш код здесь\n",
    "m = int(input())\n",
    "n = int(input())\n",
    "if (n > m):\n",
    "    for i in range(m, n + 1):\n",
    "        print(i)\n",
    "else:\n",
    "    for i in range(m, n-1, -1):\n",
    "        print(i)"
   ]
  },
  {
   "cell_type": "code",
   "execution_count": null,
   "id": "5d3277d9-d997-4732-a325-cbe7c73e0626",
   "metadata": {},
   "outputs": [],
   "source": [
    "# 6\n",
    "\"\"\"Даны два целых числа m и n (m>n). Напишите программу, которая выводит все нечётные целые числа от m до n (включительно) в порядке убывания.\"\"\""
   ]
  },
  {
   "cell_type": "code",
   "execution_count": 3,
   "id": "27830989-75e2-4303-aafa-88fb68195514",
   "metadata": {},
   "outputs": [
    {
     "name": "stdout",
     "output_type": "stream",
     "text": [
      "9\n",
      "7\n",
      "5\n",
      "3\n",
      "1\n"
     ]
    }
   ],
   "source": [
    "n = int(input())\n",
    "m = int(input())\n",
    "\n",
    "for i in range(m, n - 1, -1):\n",
    "    if (i % 2 == 1):\n",
    "        print(i)"
   ]
  },
  {
   "cell_type": "code",
   "execution_count": null,
   "id": "7efec3d3-d633-449a-91c9-75bfc4aab5b3",
   "metadata": {},
   "outputs": [],
   "source": [
    "# 7\n",
    "\"\"\"Даны два целых числа m и n (m>n). Напишите программу, которая выводит все целые числа от m до n (включительно), \n",
    "удовлетворяющие хотя бы одному из условий:\n",
    "число кратно 17\n",
    "число оканчивается на 9\n",
    "число кратно 3 и 5 одновременно \"\"\""
   ]
  },
  {
   "cell_type": "code",
   "execution_count": null,
   "id": "acfecb6d-59ee-4218-a984-a8b1e314e7eb",
   "metadata": {},
   "outputs": [],
   "source": [
    "# Напишите Ваш код здесь\n",
    "m = int(input())\n",
    "n = int(input())\n",
    "\n",
    "for i in range(n, m):\n",
    "    if (i % 17 == 0 and i % 10 == 9 and (i % 3 == 0 and i % 5 == 0)):\n",
    "        print(i)"
   ]
  },
  {
   "cell_type": "code",
   "execution_count": null,
   "id": "afdf1a11-a291-47dd-ba44-790c26339e6c",
   "metadata": {},
   "outputs": [],
   "source": [
    "# 8\n",
    "\"\"\"На вход программе подаются два целых числа a и b (a≤b). Напишите программу, которая подсчитывает количество чисел в диапазоне от \n",
    "a до b (включительно), куб которых оканчивается на 4 или 9.\"\"\""
   ]
  },
  {
   "cell_type": "code",
   "execution_count": null,
   "id": "acdc0943-4321-45de-9fe2-a881fc844240",
   "metadata": {},
   "outputs": [],
   "source": [
    "# Напишите Ваш код здесь\n",
    "a = int(input())\n",
    "a = int(input())\n",
    "cnt = 0\n",
    "\n",
    "for i in range(a, b + 1):\n",
    "    if ((i * i * i) % 10 == 4 or (i * i * i) % 10 == 9):\n",
    "        cnt += 1\n",
    "\n",
    "print(cnt)"
   ]
  }
 ],
 "metadata": {
  "kernelspec": {
   "display_name": "Python 3",
   "language": "python",
   "name": "python3"
  },
  "language_info": {
   "codemirror_mode": {
    "name": "ipython",
    "version": 3
   },
   "file_extension": ".py",
   "mimetype": "text/x-python",
   "name": "python",
   "nbconvert_exporter": "python",
   "pygments_lexer": "ipython3",
   "version": "3.13.7"
  }
 },
 "nbformat": 4,
 "nbformat_minor": 5
}
