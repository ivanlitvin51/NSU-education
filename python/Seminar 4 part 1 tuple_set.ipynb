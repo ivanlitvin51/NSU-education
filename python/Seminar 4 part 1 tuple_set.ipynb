{
 "cells": [
  {
   "cell_type": "code",
   "execution_count": null,
   "id": "73ab8ded-b8aa-4935-adb4-2a9c6810ab00",
   "metadata": {},
   "outputs": [],
   "source": [
    "# Tuple"
   ]
  },
  {
   "cell_type": "code",
   "execution_count": null,
   "id": "c7949c4c-e2ab-4999-9dc1-0cc505ab1ee9",
   "metadata": {},
   "outputs": [],
   "source": [
    "#1\n",
    "\"\"\"Дополните приведенный ниже код так, чтобы получить список, содержащий только непустые кортежи исходного списка tuples, \n",
    "не меняя порядка их следования.\n",
    "Используйте списочное выражение.\"\"\""
   ]
  },
  {
   "cell_type": "code",
   "execution_count": 1,
   "id": "1b61e998-b7a8-4a0e-bfc2-621256cb88b2",
   "metadata": {},
   "outputs": [
    {
     "name": "stdout",
     "output_type": "stream",
     "text": [
      "[('',), ('a', 'b'), ('a', 'b', 'c'), (1,), ('d',), ('', '')]\n"
     ]
    }
   ],
   "source": [
    "tuples = [(), (), ('',), ('a', 'b'), (), ('a', 'b', 'c'), (1,), (), (), ('d',), ('', ''), ()]\n",
    "# Напишите Ваш код ниже\n",
    "tuples2 = []\n",
    "for i in tuples:\n",
    "    if (i):\n",
    "        tuples2.append(i)\n",
    "print(tuples2)\n"
   ]
  },
  {
   "cell_type": "code",
   "execution_count": null,
   "id": "a84ffcda-a434-4f3c-a75e-70fe8ed60c8f",
   "metadata": {},
   "outputs": [],
   "source": [
    "#2\n",
    "\"\"\"Дополните приведенный ниже код так, чтобы переменная new_tuples содержала список кортежей на основе списка tuples с последним элементом каждого \n",
    "кортежа, замененным на численное значение 100.\n",
    "Используйте списочное выражение."
   ]
  },
  {
   "cell_type": "code",
   "execution_count": 1,
   "id": "6f26057d-f929-4b2a-9613-3a306e16a516",
   "metadata": {},
   "outputs": [
    {
     "name": "stdout",
     "output_type": "stream",
     "text": [
      "[(10, 20, 100), (40, 50, 100), (70, 80, 100), (10, 100), (1, 2, 3, 100), (5, 6, 10, 2, 1, 100)]\n"
     ]
    }
   ],
   "source": [
    "tuples = [(10, 20, 40), (40, 50, 60), (70, 80, 90), (10, 90), (1, 2, 3, 4), (5, 6, 10, 2, 1, 77)]\n",
    "# Напишите Ваш код ниже\n",
    "tuples2 = []\n",
    "for i in tuples:\n",
    "    tuples2.append(i[:-1] + (100,))\n",
    "print(tuples2)"
   ]
  },
  {
   "cell_type": "code",
   "execution_count": null,
   "id": "72171cf1-e08f-440b-b6c9-7749413ade5e",
   "metadata": {},
   "outputs": [],
   "source": [
    "#3\n",
    "\"\"\"Дополните приведенный ниже код так, чтобы он вывел список, \n",
    "содержащий средние арифметические значения чисел каждого вложенного кортежа в заданном кортеже кортежей numbers.\"\"\"\n"
   ]
  },
  {
   "cell_type": "code",
   "execution_count": 2,
   "id": "6eb8236c-4719-4d6d-af2e-7a0b8f6351ac",
   "metadata": {},
   "outputs": [
    {
     "name": "stdout",
     "output_type": "stream",
     "text": [
      "[10.5, 44.0, 58.0, 2.5, 50.0]\n"
     ]
    }
   ],
   "source": [
    "numbers = ((10, 10, 10, 12), (30, 45, 56, 45), (81, 80, 39, 32), (1, 2, 3, 4), (90, 10))\n",
    "# Напишите Ваш код ниже\n",
    "numbers2 = []\n",
    "for i in numbers:\n",
    "    numbers2.append(sum(i) / len(i))\n",
    "print(numbers2)"
   ]
  },
  {
   "cell_type": "code",
   "execution_count": null,
   "id": "5fc50215-a30f-4caa-9bb9-e20d3238075f",
   "metadata": {},
   "outputs": [],
   "source": [
    "# set"
   ]
  },
  {
   "cell_type": "code",
   "execution_count": null,
   "id": "db041c96-1ef0-43ac-8163-a4244719ebc2",
   "metadata": {},
   "outputs": [],
   "source": [
    "#4\n",
    "\"\"\"Дополните приведенный код, чтобы он вывел элементы множества fruits, каждый на отдельной строке, отсортированные по убыванию \n",
    "(в обратном лексикографическом порядке).\n",
    "Выводите каждый элемент множества на отдельной строке."
   ]
  },
  {
   "cell_type": "code",
   "execution_count": 10,
   "id": "fcd07b50-ec27-4526-a835-c916139aed3b",
   "metadata": {},
   "outputs": [
    {
     "name": "stdout",
     "output_type": "stream",
     "text": [
      "apple\n",
      "apricot\n",
      "avocado\n",
      "banana\n",
      "cherry\n",
      "grapefruit\n",
      "pineapple\n"
     ]
    }
   ],
   "source": [
    "fruits = {'apple', 'banana', 'cherry', 'avocado', 'pineapple', 'apricot', 'banana', 'avocado', 'grapefruit'}\n",
    "# Напишите Ваш код ниже\n",
    "fruits2 = []\n",
    "for i in fruits:\n",
    "    fruits2.append(i)\n",
    "fruits2.sort()\n",
    "for i in fruits2:\n",
    "    print(i)"
   ]
  },
  {
   "cell_type": "markdown",
   "id": "3fc7a2d2",
   "metadata": {},
   "source": []
  },
  {
   "cell_type": "code",
   "execution_count": null,
   "id": "da219548-ce48-4e7b-8056-767ac56ebf63",
   "metadata": {},
   "outputs": [],
   "source": [
    "#5\n",
    "\"\"\"На вход программе подается строка текста. Напишите программу, которая определяет количество различных символов в строке.\n",
    "Input 1:\n",
    "12345678910\n",
    "Output 1:\n",
    "10\n",
    "\n",
    "Input 2:\n",
    "ab bc\n",
    "Output 2:\n",
    "4          \"\"\""
   ]
  },
  {
   "cell_type": "code",
   "execution_count": null,
   "id": "f2cfa1f2-1ac2-427d-bfa3-3af9f990b7df",
   "metadata": {},
   "outputs": [],
   "source": [
    "# Напишите Ваш код ниже\n",
    "s = input()\n",
    "print(len(set(s)))"
   ]
  },
  {
   "cell_type": "code",
   "execution_count": null,
   "id": "e1382ec8-5e4e-466e-807d-b8d99eb19053",
   "metadata": {},
   "outputs": [],
   "source": [
    "#6\n",
    "\"\"\"На вход программе подается строка, состоящая из цифр. Необходимо определить, верно ли, что в ее записи ни одна из цифр не повторяется?\n",
    "Программа должна вывести YES, если ни одна из цифр в строке не повторяется, или NO в противном случае.\n",
    "Input 1:\n",
    "1093482\n",
    "Output 1:\n",
    "YES\n",
    "\n",
    "Input 2:\n",
    "10000000\n",
    "Output 2:\n",
    "NO\n",
    "\n",
    "Input 3:\n",
    "3445321290\n",
    "Output 3:\n",
    "NO          \"\"\""
   ]
  },
  {
   "cell_type": "code",
   "execution_count": null,
   "id": "1d632f4d-81bd-475a-b923-df67a7dbefa9",
   "metadata": {},
   "outputs": [
    {
     "name": "stdout",
     "output_type": "stream",
     "text": [
      "{'3', '2', '1'}\n",
      "NO\n"
     ]
    }
   ],
   "source": [
    "# Напишите Ваш код ниже\n",
    "s1 = input()\n",
    "s2 = set(s1)\n",
    "if (len(s1) == len(s2)):\n",
    "    print(\"YES\")\n",
    "else:\n",
    "    print(\"NO\")"
   ]
  },
  {
   "cell_type": "code",
   "execution_count": null,
   "id": "dbceb930-d2ca-484c-9751-f457ac8ce713",
   "metadata": {},
   "outputs": [],
   "source": [
    "#7\n",
    "\"\"\"На вход программе подаются две строки, состоящие из цифр. \n",
    "Необходимо определить, верно ли, что в записи этих двух строк используются все десять цифр?\n",
    "Программа должна вывести YES, если в записи этих двух строк используются все десять цифр, или NO в противном случае.\n",
    "Input 1:\n",
    "12387\n",
    "94230\n",
    "Output 1:\n",
    "NO\n",
    "\n",
    "Input 2:\n",
    "1930\n",
    "2465748\n",
    "Output 2:\n",
    "YES\n",
    "\n",
    "Input 3:\n",
    "12368267374924645234\n",
    "134347264344472183\n",
    "Output 3:\n",
    "NO                    \"\"\""
   ]
  },
  {
   "cell_type": "code",
   "execution_count": 19,
   "id": "4dd18881-4f60-4c06-8201-fa373fc0001b",
   "metadata": {},
   "outputs": [
    {
     "name": "stdout",
     "output_type": "stream",
     "text": [
      "NO\n"
     ]
    }
   ],
   "source": [
    "# Напишите Ваш код ниже\n",
    "s1 = input()\n",
    "s2 = input()\n",
    "cnt = 0\n",
    "for i in \"1234567890\":\n",
    "    if (i in s1 + s2):\n",
    "        cnt += 1\n",
    "if(cnt == 10):\n",
    "    print(\"YES\")\n",
    "else:\n",
    "    print(\"NO\")"
   ]
  },
  {
   "cell_type": "code",
   "execution_count": null,
   "id": "24f51901-640a-4721-a15f-c3facd8b5aff",
   "metadata": {},
   "outputs": [],
   "source": [
    "#8\n",
    "\"\"\"На вход программе подаются две строки, состоящие из цифр. Необходимо определить, верно ли, что для записи этих строк были использованы \n",
    "одинаковые наборы цифр?\n",
    "Программа должна вывести YES, если для записи этих строк были использованы одинаковые наборы цифр, или NO в противном случае.\n",
    "Input 1:\n",
    "0943\n",
    "9304\n",
    "Output 1:\n",
    "YES\n",
    "\n",
    "Input 2:\n",
    "1\n",
    "2\n",
    "Output 2:\n",
    "NO\n",
    "\n",
    "Input 3:\n",
    "327428\n",
    "824723\n",
    "Output 3:\n",
    "YES            \"\"\""
   ]
  },
  {
   "cell_type": "code",
   "execution_count": null,
   "id": "0716e23c-8d0d-499c-8f81-dc5d3d07dbbc",
   "metadata": {},
   "outputs": [],
   "source": [
    "# Напишите Ваш код ниже\n",
    "s1 = int(input())\n",
    "s2 = int(input())\n",
    "\n",
    "num1 = []\n",
    "num2 = []\n",
    "\n",
    "for i in range(int(len(str(s1)))):\n",
    "    num1.append(i)\n",
    "for i in range(int(len(str(s2)))):\n",
    "    num2.append(i)\n",
    "\n",
    "num1.sort()\n",
    "num2.sort()\n",
    "\n",
    "num1 = set(num1)\n",
    "num2 = set(num2)\n",
    "\n",
    "if(num1 == num2):\n",
    "    print(\"YES\")\n",
    "else:\n",
    "    print(\"NO\")\n"
   ]
  },
  {
   "cell_type": "code",
   "execution_count": null,
   "id": "0030a470-f098-4c28-a47b-0a5266c7b1bd",
   "metadata": {},
   "outputs": [],
   "source": [
    "#9\n",
    "\"\"\"На вход программе подается строка, состоящая из трех слов. Верно ли, что для записи всех трех слов был использован один и тот же набор букв?\n",
    "Программа должна вывести YES, если для записи всех трех слов был использован один и тот же набор букв, или NO в противном случае.\n",
    "Input 1:\n",
    "автор товар отвар\n",
    "Output 1:\n",
    "YES\n",
    "\n",
    "Input 2:\n",
    "шарада баллада услада\n",
    "Output 2:\n",
    "NO                        \"\"\""
   ]
  },
  {
   "cell_type": "code",
   "execution_count": null,
   "id": "1cc1dcad-b38d-40d8-8542-9f0ecb57881b",
   "metadata": {},
   "outputs": [
    {
     "name": "stdout",
     "output_type": "stream",
     "text": [
      "YES\n"
     ]
    }
   ],
   "source": [
    "# Напишите Ваш код ниже\n",
    "s = input().split()\n",
    "\n",
    "s1 = set(s[0])\n",
    "s2 = set(s[1])\n",
    "s3 = set(s[2])\n",
    "\n",
    "if (s1 == s2 == s3):\n",
    "    print(\"YES\")\n",
    "else:\n",
    "    print(\"NO\")\n",
    "\n",
    "\n",
    "\n"
   ]
  },
  {
   "cell_type": "code",
   "execution_count": null,
   "id": "90d24680-f019-482e-89d0-2bb7b5285e8e",
   "metadata": {},
   "outputs": [],
   "source": [
    "#10\n",
    "\"\"\"Напишите программу для вывода количества уникальных символов каждого считанного слова без учета регистра.\n",
    "На вход программе в первой строке подается число n – общее количество слов. Далее идут n строк со словами.\n",
    "Программа должна вывести на отдельной строке количество уникальных символов для каждого слова.\n",
    "Input 1:\n",
    "3\n",
    "Тимур\n",
    "Beegeek\n",
    "АнанАс\n",
    "Output 1:\n",
    "5\n",
    "4\n",
    "3\n",
    "\n",
    "Input 2:\n",
    "5\n",
    "абОнемЕнТы\n",
    "дозировка\n",
    "военкОмат\n",
    "ДрУжиНник\n",
    "ОпПозицИя\n",
    "Output 2:\n",
    "8\n",
    "8\n",
    "8\n",
    "7\n",
    "6       \"\"\""
   ]
  },
  {
   "cell_type": "code",
   "execution_count": 40,
   "id": "976060e6-6282-4d82-8f97-9c151d0239eb",
   "metadata": {},
   "outputs": [
    {
     "name": "stdout",
     "output_type": "stream",
     "text": [
      "8\n",
      "8\n",
      "8\n",
      "7\n",
      "6\n"
     ]
    }
   ],
   "source": [
    "# Напишите Ваш код ниже\n",
    "n = int(input())\n",
    "for i in range(n):\n",
    "    s = input().lower()\n",
    "    print(len(set(s)))\n"
   ]
  },
  {
   "cell_type": "code",
   "execution_count": null,
   "id": "b5106d32-1162-4f39-9829-1c9c9e3dc272",
   "metadata": {},
   "outputs": [],
   "source": [
    "#11\n",
    "\"\"\"Напишите программу для вывода общего количества уникальных символов во всех считанных словах без учета регистра.\n",
    "На вход программе в первой строке подается число n – общее количество слов. Далее идут n строк со словами.\n",
    "Программа должна вывести одно число – общее количество уникальных символов во всех словах без учета регистра.\n",
    "Input 1:\n",
    "5\n",
    "aAa\n",
    "bB\n",
    "ccc\n",
    "dDdd\n",
    "ppppP\n",
    "Output 1:\n",
    "5\n",
    "\n",
    "Sample Input 2:\n",
    "4\n",
    "авТорИтет\n",
    "небо\n",
    "машинА\n",
    "Мёд\n",
    "Output 2:\n",
    "13         \"\"\""
   ]
  },
  {
   "cell_type": "code",
   "execution_count": null,
   "id": "b7a5c937-c4f1-4ef9-b761-b703f1e1fc3f",
   "metadata": {},
   "outputs": [],
   "source": [
    "# Напишите Ваш код ниже\n"
   ]
  },
  {
   "cell_type": "code",
   "execution_count": null,
   "id": "77b86731-30c7-4521-8ef7-5afb0b8003bb",
   "metadata": {},
   "outputs": [],
   "source": [
    "#12\n",
    "\"\"\"Напишите программу для определения общего количества различных слов в строке текста.\n",
    "Программа должна вывести одно число – общее количество различных слов в строке без учета регистра.\n",
    "Словом считается последовательность непробельных символов, идущих подряд, слова разделены одним или большим числом пробелов.\n",
    "Знаками препинания .,;:-?! пренебрегаем.\n",
    "Input 1:\n",
    "Milk is white and so is glue, Ghosts are white and they say BOO!\n",
    "Output 1:\n",
    "11\n",
    "\n",
    "Input 2:\n",
    "Snowflakes, snowflakes falling down. Snowflakes, covering up the ground. Making a blanket, soft and white. Making a blanket in the night.\n",
    "Output 2:\n",
    "15\n",
    "\n",
    "Input 3:\n",
    "Lets make the color pink. Lets make the color pink. Mixing red and white, I think, Well make the color pink.\n",
    "Output 3:\n",
    "12            \"\"\""
   ]
  },
  {
   "cell_type": "code",
   "execution_count": null,
   "id": "dbee7c34-4a86-43f5-8b97-356fa0a71445",
   "metadata": {},
   "outputs": [
    {
     "name": "stdout",
     "output_type": "stream",
     "text": [
      "12\n"
     ]
    }
   ],
   "source": [
    "# Напишите Ваш код нижеtext = input().lower()\n",
    "s = input().lower()\n",
    "\n",
    "for i in \".,;:-?!\":\n",
    "    s = s.replace(i, \"\")\n",
    "\n",
    "s1 = set(s.split())\n",
    "print(len(s1))\n",
    "    "
   ]
  },
  {
   "cell_type": "code",
   "execution_count": null,
   "id": "54666502-407b-4c06-8ad1-5e4435b057fd",
   "metadata": {},
   "outputs": [],
   "source": [
    "#13\n",
    "\"\"\"На вход программе подается строка текста, содержащая числа. Для каждого числа выведите слово YES (на отдельной строке), \n",
    "если это число ранее встречалось в последовательности, или NO в противном случае.\n",
    "На вход программе подается строка текста, содержащая числа, разделенные символом пробела.\n",
    "Программа должна вывести текст в соответствии с условием задачи.\n",
    "Ведущие нули в числах должны игнорироваться.\n",
    "Input 1:\n",
    "1 1 2 2 5 5 5 5 6 7 8\n",
    "Output 1:\n",
    "NO\n",
    "YES\n",
    "NO\n",
    "YES\n",
    "NO\n",
    "YES\n",
    "YES\n",
    "YES\n",
    "NO\n",
    "NO\n",
    "NO\n",
    "\n",
    "Input 2:\n",
    "10 5 48 6 38 1\n",
    "Output 2:\n",
    "NO\n",
    "NO\n",
    "NO\n",
    "NO\n",
    "NO\n",
    "NO\n",
    "\n",
    "Input 3:\n",
    "1 1 1 1 1 1 1 1 1\n",
    "Output 3:\n",
    "NO\n",
    "YES\n",
    "YES\n",
    "YES\n",
    "YES\n",
    "YES\n",
    "YES\n",
    "YES\n",
    "YES\n",
    "\n",
    "Input 4:\n",
    "1 2 3 002 03 4 5 05\n",
    "Output 4:\n",
    "NO\n",
    "NO\n",
    "NO\n",
    "YES\n",
    "YES\n",
    "NO\n",
    "NO\n",
    "YES    \"\"\""
   ]
  },
  {
   "cell_type": "code",
   "execution_count": 46,
   "id": "01d04157-e875-4b68-9dd7-d33dbdb1a0f2",
   "metadata": {},
   "outputs": [
    {
     "name": "stdout",
     "output_type": "stream",
     "text": [
      "NO\n",
      "YES\n",
      "NO\n",
      "YES\n",
      "NO\n",
      "YES\n",
      "YES\n",
      "YES\n",
      "NO\n",
      "NO\n",
      "NO\n"
     ]
    }
   ],
   "source": [
    "# Напишите Ваш код ниже\n",
    "s = input().split()\n",
    "nums = set()\n",
    "\n",
    "for i in s:\n",
    "    x = int(i)  # убираем ведущие нули\n",
    "    if x in nums:\n",
    "        print(\"YES\")\n",
    "    else:\n",
    "        print(\"NO\")\n",
    "        nums.add(x)"
   ]
  },
  {
   "cell_type": "code",
   "execution_count": null,
   "id": "9c6f7f60-7859-48a8-b603-da900550db8b",
   "metadata": {},
   "outputs": [],
   "source": [
    "#14\n",
    "\"\"\"На странице каждой задачи онлайн-курсов по программированию имеется виджет, который отображает общее число учащихся, верно решивших задачу, \n",
    "и процент верных решений от общего числа попыток. Напишите программу, которая повторяет этот функционал: считает, сколько учеников верно решили \n",
    "задачу, и вычисляет процент верных решений среди всех попыток.\n",
    "\n",
    "На вход программе подаются:\n",
    "число n – общее число попыток решения задачи n строк, представляющих собой решения учащихся, каждая в следующем формате:\n",
    "<никнейм>: <результат проверяющей системы>, где <результат проверяющей системы> может принимать только два значения: \n",
    "Correct (задача решена верно) или Wrong (задача решена неверно).\n",
    "Программа должна посчитать и вывести, сколько учащихся решили задачу верно и каков процент верных решений из всех попыток. \n",
    "Вывод осуществляется в следующем формате:\n",
    "\n",
    "Верно решили <количество верно решивших учащихся> учащихся\n",
    "Из всех попыток <процент верных решений>% верных\n",
    "                 \n",
    "где <количество верно решивших учащихся> – количество уникальных учащихся, которые верно решили задачу.\n",
    "\n",
    "При этом если у задачи еще нет верных решений, то программа должна вывести следующий текст:\n",
    "Вы можете стать первым, кто решит эту задачу\n",
    "                 \n",
    "Процент верных решений ваша программа должна округлять до целого числа по математическим правилам (используйте модуль math).\n",
    "Гарантируется, что никнеймы разных учащихся не могут совпадать.\n",
    "Гарантируется, что никнейм учащегося не может содержать символ двоеточия (:).\n",
    "\n",
    "Input 1:\n",
    "6\n",
    "Alex: Correct\n",
    "Вася Иванов: Wrong\n",
    "evil_666: Correct\n",
    "Alex: Correct\n",
    "Alex: Wrong\n",
    "Сэм Альтман: Correct\n",
    "Output 1:\n",
    "Верно решили 3 учащихся\n",
    "Из всех попыток 67% верных\n",
    "\n",
    "Input 2:\n",
    "2\n",
    "МонаЛиза): Wrong\n",
    "_Дарт Вейдерович_: Wrong\n",
    "Output 2:\n",
    "Вы можете стать первым, кто решит эту задачу        \"\"\""
   ]
  },
  {
   "cell_type": "code",
   "execution_count": null,
   "id": "77c4368a",
   "metadata": {},
   "outputs": [],
   "source": []
  },
  {
   "cell_type": "code",
   "execution_count": null,
   "id": "2b11c581-b032-45c2-922c-cccd8cfa20da",
   "metadata": {},
   "outputs": [
    {
     "name": "stdout",
     "output_type": "stream",
     "text": [
      "3\n"
     ]
    }
   ],
   "source": [
    "import math\n",
    "\n",
    "n = int(input())\n",
    "students = []\n",
    "\n",
    "for i in range(n):\n",
    "    students.append(input().split(\": \"))\n",
    "\n",
    "correct_users = []\n",
    "correct_attempts = 0\n",
    "\n",
    "for name, result in students:\n",
    "    if result == \"Correct\":\n",
    "        correct_attempts += 1\n",
    "        if name not in correct_users:\n",
    "            correct_users.append(name)\n",
    "\n",
    "if len(correct_users) == 0:\n",
    "    print(\"Вы можете стать первым, кто решит эту задачу\")\n",
    "else:\n",
    "    percent = round(correct_attempts / n * 100)\n",
    "    print(\"Верно решили\", len(correct_users), \"учащихся\")\n",
    "    print(\"Из всех попыток\", str(percent) + \"% верных\")"
   ]
  }
 ],
 "metadata": {
  "kernelspec": {
   "display_name": "Python 3",
   "language": "python",
   "name": "python3"
  },
  "language_info": {
   "codemirror_mode": {
    "name": "ipython",
    "version": 3
   },
   "file_extension": ".py",
   "mimetype": "text/x-python",
   "name": "python",
   "nbconvert_exporter": "python",
   "pygments_lexer": "ipython3",
   "version": "3.13.7"
  }
 },
 "nbformat": 4,
 "nbformat_minor": 5
}
