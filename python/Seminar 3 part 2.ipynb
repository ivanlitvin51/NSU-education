{
 "cells": [
  {
   "cell_type": "code",
   "execution_count": null,
   "id": "72e4d14c-46eb-4099-8f5f-662ce1a99fc3",
   "metadata": {},
   "outputs": [],
   "source": [
    "# 1\n",
    "\"\"\"На вход программе подаётся натуральное число n. Напишите программу, которая подсчитывает сумму тех чисел от 1 до n (включительно), \n",
    "квадрат которых оканчивается на 2,5 или 8.\n",
    "Input 1:\n",
    "10\n",
    "Output 1:\n",
    "5\n",
    "\n",
    "Input 2:\n",
    "100\n",
    "Output 2:\n",
    "500\n",
    "\n",
    "Input 3:\n",
    "1992\n",
    "Output 3:\n",
    "198005        \"\"\""
   ]
  },
  {
   "cell_type": "code",
   "execution_count": 4,
   "id": "d2827138-e67d-42c8-8d48-a9c3c45855e6",
   "metadata": {},
   "outputs": [
    {
     "name": "stdout",
     "output_type": "stream",
     "text": [
      "5\n"
     ]
    }
   ],
   "source": [
    "# Напишите Ваш код здесь\n",
    "n = int(input())\n",
    "sum = 0\n",
    "for i in range(1, n + 1):\n",
    "    if ((i**2 % 10 == 2) or (i **2 % 10 == 8) or (i**2 % 10 == 5)):\n",
    "        sum += i\n",
    "print(sum)"
   ]
  },
  {
   "cell_type": "code",
   "execution_count": null,
   "id": "8446b694-bbbb-4f0f-9c13-993bd4eb59c3",
   "metadata": {},
   "outputs": [],
   "source": [
    "# 2\n",
    "\"\"\"На вход программе подаются натуральное число n (n≥2), а затем n различных натуральных чисел последовательности, каждое на отдельной строке.\n",
    "Напишите программу, которая выводит наибольшее и второе наибольшее число последовательности. \n",
    "Input 1:\n",
    "5\n",
    "1\n",
    "2\n",
    "3\n",
    "4\n",
    "5\n",
    "Output 1:\n",
    "5\n",
    "4\n",
    "\n",
    "Input 2:\n",
    "8\n",
    "9\n",
    "7\n",
    "5\n",
    "4\n",
    "3\n",
    "2\n",
    "78\n",
    "1\n",
    "Output 2:\n",
    "78\n",
    "9\n",
    "\n",
    "Input 3:\n",
    "13\n",
    "1\n",
    "2\n",
    "3\n",
    "5\n",
    "8\n",
    "233\n",
    "13\n",
    "21\n",
    "34\n",
    "377\n",
    "55\n",
    "89\n",
    "144\n",
    "Output 3:\n",
    "377\n",
    "233          \"\"\"\n"
   ]
  },
  {
   "cell_type": "code",
   "execution_count": 10,
   "id": "d0207796-49fc-4129-9cea-89e62e3f65fe",
   "metadata": {},
   "outputs": [
    {
     "name": "stdout",
     "output_type": "stream",
     "text": [
      "5\n",
      "4\n"
     ]
    }
   ],
   "source": [
    "n = int(input())\n",
    "mas = [int(input()) for i in range(n)]\n",
    "\n",
    "max1 = max(mas)\n",
    "mas.remove(max1)\n",
    "max2 = max(mas)\n",
    "\n",
    "print(max1)\n",
    "print(max2)"
   ]
  },
  {
   "cell_type": "code",
   "execution_count": null,
   "id": "319c8eaf-5a29-4ce3-b54c-4d762f1fd078",
   "metadata": {},
   "outputs": [],
   "source": [
    "# 3\n",
    "\"\"\"Напишите программу, которая считывает последовательность из 10 целых чисел и определяет, является ли каждое из них чётным или нет.\n",
    "Программа должна вывести текст «YES» (без кавычек), если все числа чётные, или «NO» (без кавычек) в противном случае.\"\"\""
   ]
  },
  {
   "cell_type": "code",
   "execution_count": 19,
   "id": "8c7b395c-6506-478b-9b41-0eb815db823d",
   "metadata": {},
   "outputs": [
    {
     "name": "stdout",
     "output_type": "stream",
     "text": [
      "YES\n"
     ]
    }
   ],
   "source": [
    "# Напишите Ваш код здесь\n",
    "mas = [int(input()) for i in range(10)]\n",
    "if (all(i % 2 == 0 for i in mas)):\n",
    "    print(\"YES\")\n",
    "else:\n",
    "    print(\"NO\")"
   ]
  },
  {
   "cell_type": "code",
   "execution_count": null,
   "id": "53923d04-22bc-4472-9330-7ce1171ee146",
   "metadata": {},
   "outputs": [],
   "source": [
    "# 4\n",
    "\"\"\"Напишите программу, которая считывает натуральное число n и выводит первые n чисел последовательности Фибоначчи.\n",
    "На вход программе подается одно число n (n≤100) – количество членов последовательности.\n",
    "Программа должна вывести члены последовательности Фибоначчи, отделенные символом пробела.\n",
    "Последовательность Фибоначчи – это последовательность натуральных чисел, где каждое последующее число является суммой двух предыдущих:\n",
    "1,1,2,3,5,8,13,21,34,55,89,… \n",
    "\n",
    "Input 1:\n",
    "1\n",
    "Output 1:\n",
    "1\n",
    "\n",
    "Input 2:\n",
    "5\n",
    "Output 2:\n",
    "1 1 2 3 5\n",
    "\n",
    "Input 3:\n",
    "22\n",
    "Output 3:\n",
    "1 1 2 3 5 8 13 21 34 55 89 144 233 377 610 987 1597 2584 4181 6765 10946 17711"
   ]
  },
  {
   "cell_type": "code",
   "execution_count": 24,
   "id": "c2528aae-545d-4d33-8c46-d926883b635e",
   "metadata": {},
   "outputs": [
    {
     "name": "stdout",
     "output_type": "stream",
     "text": [
      "1 1 2 3 5\n"
     ]
    }
   ],
   "source": [
    "# Напишите Ваш код здесь\n",
    "n = int(input())\n",
    "fib = []\n",
    "a, b = 1, 1\n",
    "for i in range(n):\n",
    "    fib.append(a)\n",
    "    a, b = b, a + b\n",
    "print(*fib)"
   ]
  },
  {
   "cell_type": "code",
   "execution_count": null,
   "id": "c5468f84-5830-41bd-b876-0223d32f7705",
   "metadata": {},
   "outputs": [],
   "source": [
    "# 5\n",
    "\"\"\"Дано натуральное число. Напишите программу, которая выводит его цифры в столбик в обратном порядке.\n",
    "На вход программе подаётся натуральное число. Программа должна вывести цифры введённого числа в столбик в обратном порядке.\n",
    "\n",
    "Input 1:\n",
    "12345\n",
    "Output 1:\n",
    "5\n",
    "4\n",
    "3\n",
    "2\n",
    "1\n",
    "\n",
    "Input 2:\n",
    "55690454\n",
    "Output 2:\n",
    "4\n",
    "5\n",
    "4\n",
    "0\n",
    "9\n",
    "6\n",
    "5\n",
    "5     \"\"\""
   ]
  },
  {
   "cell_type": "code",
   "execution_count": 28,
   "id": "a43cf39d-7c16-43b5-9b84-530d45c771c7",
   "metadata": {},
   "outputs": [
    {
     "name": "stdout",
     "output_type": "stream",
     "text": [
      "5\n",
      "4\n",
      "3\n",
      "2\n",
      "1\n"
     ]
    }
   ],
   "source": [
    "# Напишите Ваш код здесь\n",
    "s = input()\n",
    "for i in range(len(s)):\n",
    "    print(s[-1])\n",
    "    s = s[:-1]"
   ]
  },
  {
   "cell_type": "code",
   "execution_count": null,
   "id": "951b5c43-838e-469f-a95a-d8134e970eed",
   "metadata": {},
   "outputs": [],
   "source": [
    "# 6\n",
    "\"\"\"Дано натуральное число n(n≥10). Напишите программу, которая определяет его максимальную и минимальную цифры и выводит текст в следующем формате:\n",
    "Максимальная цифра равна <максимальная цифра>\n",
    "Минимальная цифра равна <минимальная цифра>\n",
    "\n",
    "Input 1:\n",
    "26670\n",
    "Output 1:\n",
    "Максимальная цифра равна 7\n",
    "Минимальная цифра равна 0           \"\"\""
   ]
  },
  {
   "cell_type": "code",
   "execution_count": 32,
   "id": "a96a9fce-a92d-4761-bd01-23479cd8004b",
   "metadata": {},
   "outputs": [
    {
     "name": "stdout",
     "output_type": "stream",
     "text": [
      "Максимальная цифра равна 8\n",
      "Минимальная цифра равна 2\n"
     ]
    }
   ],
   "source": [
    "n = input()\n",
    "mas = [int(i) for i in n]\n",
    "print(\"Максимальная цифра равна\", max(mas))\n",
    "print(\"Минимальная цифра равна\", min(mas))"
   ]
  },
  {
   "cell_type": "code",
   "execution_count": null,
   "id": "08468acc-9588-4a41-abef-51c6a92f1d79",
   "metadata": {},
   "outputs": [],
   "source": [
    "# 7\n",
    "\"\"\"Дано натуральное число. Напишите программу, которая определяет, состоит ли указанное число из одинаковых цифр. На вход программе\n",
    "подаётся натуральное число. Программа должна вывести «YES» (без кавычек), если число состоит из одинаковых цифр, \n",
    "или «NO» (без кавычек) в противном случае.\n",
    "\n",
    "Input 1:\n",
    "11111\n",
    "Output 1:\n",
    "YES\n",
    "\n",
    "Input 2:\n",
    "11112111\n",
    "Output 2:\n",
    "NO               \"\"\""
   ]
  },
  {
   "cell_type": "code",
   "execution_count": 40,
   "id": "52686b26-e6eb-4df7-836b-889c4ff6bdc1",
   "metadata": {},
   "outputs": [
    {
     "name": "stdout",
     "output_type": "stream",
     "text": [
      "NO\n"
     ]
    }
   ],
   "source": [
    "# Напишите Ваш код здесь\n",
    "n = input()\n",
    "if len(set(n)) == 1:\n",
    "    print (\"YES\")\n",
    "else:\n",
    "    print(\"NO\")"
   ]
  },
  {
   "cell_type": "code",
   "execution_count": null,
   "id": "c45f7e3e-c92d-414b-9bd4-312de2b1687b",
   "metadata": {},
   "outputs": [],
   "source": [
    "# 8\n",
    "\"\"\"Дано натуральное число n(n≤9). Напишите программу, которая печатает таблицу размером n×5, где в i-ой строке указано число \n",
    "i (числа отделены одним пробелом). На вход программе подаётся одно натуральное число. Программа должна вывести таблицу размером \n",
    "n×5 в соответствии с условием. В конце строки может быть пробел.\n",
    "Input 1:\n",
    "3\n",
    "Output 1:\n",
    "1 1 1 1 1\n",
    "2 2 2 2 2\n",
    "3 3 3 3 3\n",
    "\n",
    "Input 2:\n",
    "6\n",
    "Output 2:\n",
    "1 1 1 1 1\n",
    "2 2 2 2 2\n",
    "3 3 3 3 3\n",
    "4 4 4 4 4\n",
    "5 5 5 5 5\n",
    "6 6 6 6 6\n",
    "\n",
    "Input 3:\n",
    "1\n",
    "Output 3:\n",
    "1 1 1 1 1     \"\"\""
   ]
  },
  {
   "cell_type": "code",
   "execution_count": 5,
   "id": "d2ae6c57-b44c-4d1f-8db5-3fb87bdab0a3",
   "metadata": {},
   "outputs": [
    {
     "name": "stdout",
     "output_type": "stream",
     "text": [
      "1 1 1 1 1 \n",
      "2 2 2 2 2 \n",
      "3 3 3 3 3 \n",
      "4 4 4 4 4 \n",
      "5 5 5 5 5 \n"
     ]
    }
   ],
   "source": [
    "# Напишите Ваш код здесь\n",
    "n = int(input())\n",
    "for i in range(1, n+1):\n",
    "    for j in range(5):\n",
    "        print(i, end=\" \")\n",
    "    print(\"\")"
   ]
  }
 ],
 "metadata": {
  "kernelspec": {
   "display_name": "Python 3",
   "language": "python",
   "name": "python3"
  },
  "language_info": {
   "codemirror_mode": {
    "name": "ipython",
    "version": 3
   },
   "file_extension": ".py",
   "mimetype": "text/x-python",
   "name": "python",
   "nbconvert_exporter": "python",
   "pygments_lexer": "ipython3",
   "version": "3.13.7"
  }
 },
 "nbformat": 4,
 "nbformat_minor": 5
}
